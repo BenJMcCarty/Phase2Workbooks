{
  "nbformat": 4,
  "nbformat_minor": 0,
  "metadata": {
    "colab": {
      "name": "P2 Cheat Sheet.ipynb",
      "provenance": [],
      "collapsed_sections": [
        "oPL7GDPMAprs",
        "gpxNrwNv7jY5",
        "0aPDhRVI8ogG",
        "-DRfh1rn860S",
        "HbQW2ZLW951a",
        "IseX-Zk686l0",
        "mltR5Lr9-fRA"
      ],
      "toc_visible": true,
      "authorship_tag": "ABX9TyO2ao48cgWXCjiM9Wuct0tM",
      "include_colab_link": true
    },
    "kernelspec": {
      "name": "python3",
      "display_name": "Python 3"
    },
    "language_info": {
      "name": "python"
    }
  },
  "cells": [
    {
      "cell_type": "markdown",
      "metadata": {
        "id": "view-in-github",
        "colab_type": "text"
      },
      "source": [
        "<a href=\"https://colab.research.google.com/github/BenJMcCarty/Phase2Workbooks/blob/main/P2_Cheat_Sheet.ipynb\" target=\"_parent\"><img src=\"https://colab.research.google.com/assets/colab-badge.svg\" alt=\"Open In Colab\"/></a>"
      ]
    },
    {
      "cell_type": "markdown",
      "metadata": {
        "id": "RkJHT9W6FCpv"
      },
      "source": [
        "# Cheat Sheet - Phase 2"
      ]
    },
    {
      "cell_type": "markdown",
      "metadata": {
        "id": "Q7GMxKzYAwu4"
      },
      "source": [
        "#P&S, HypoTests"
      ]
    },
    {
      "cell_type": "markdown",
      "metadata": {
        "id": "3Klyi4wuB3hY"
      },
      "source": [
        "## From Review"
      ]
    },
    {
      "cell_type": "markdown",
      "metadata": {
        "id": "2w9RtNj3CtVE"
      },
      "source": [
        "### Questions"
      ]
    },
    {
      "cell_type": "markdown",
      "metadata": {
        "id": "xykrTpJQB59a"
      },
      "source": [
        "- Is there a relationship between the number of Facebook likes for a cast and the box office gross of the movie?\n",
        " - Correlation/simple linear regression\n",
        " - Ho: Beta =0\n",
        " - Ha: Beta != 0\n",
        "\n",
        "- Do foreign films perform differently at the box office than non-foreign films?\n",
        " - Two-sample T-Test\n",
        " - Ho: mu_domestic = mu_foreign\n",
        " - Ha: mu_domestic != mu_foreign\n",
        "\n",
        "- Of all movies created are 40% rated R?\n",
        " - One-sample Z-Test of proportion\n",
        " - Ho: P = 0.4\n",
        " - Ha: P != 0.4\n",
        "\n",
        "\n",
        "- Is there a relationship between the language of a film and the content rating (G, PG, PG-13, R) of that film?\n",
        " - Chi-square\n",
        " - Ho: distributions are equal\n",
        " - Ha: distributions are not equal\n",
        "\n",
        "- Is there a relationship between the content rating of a film and its budget? \n",
        " - ANOVA\n",
        " - Ho: mu_r = mu_PG13 = mu_PG = mu_G\n",
        " - Ha: They are not all equal\n"
      ]
    },
    {
      "cell_type": "markdown",
      "metadata": {
        "id": "T0Gqy--3CwMS"
      },
      "source": [
        "### Test: Do foreign films perform differently at the box office than non-foreign films?"
      ]
    },
    {
      "cell_type": "code",
      "metadata": {
        "id": "BJM6Pnt6C1Oq"
      },
      "source": [
        "# USA_array = np.array(df[df.country == \"USA\"].gross)\n",
        "\n",
        "# Foreign_array = np.array(df[df.country != \"USA\"].gross)\n",
        "\n",
        "\n",
        "\n",
        "# scipy.stats.ttest_ind(USA_array,Foreign_array, nan_policy = 'omit')"
      ],
      "execution_count": 12,
      "outputs": []
    },
    {
      "cell_type": "code",
      "metadata": {
        "id": "FmQ8H2fRC4fc"
      },
      "source": [
        ""
      ],
      "execution_count": null,
      "outputs": []
    },
    {
      "cell_type": "markdown",
      "metadata": {
        "id": "CjYSpLdIbh5J"
      },
      "source": [
        "[Stats Tests in Python Cheat Sheet](https://https://machinelearningmastery.com/statistical-hypothesis-tests-in-python-cheat-sheet/)"
      ]
    },
    {
      "cell_type": "markdown",
      "metadata": {
        "id": "tUj61Dg-FSGj"
      },
      "source": [
        "Types of Tests\n",
        "\n",
        "*   Z-Tests\n",
        "*   T-Tests\n",
        "*   ANOVA aka F-Tests\n",
        "*   Chi-Squared"
      ]
    },
    {
      "cell_type": "markdown",
      "metadata": {
        "id": "vObovkdvEB4m"
      },
      "source": [
        "### Relationshp: Confidence Interval Related to One-Sample T-Test"
      ]
    },
    {
      "cell_type": "markdown",
      "metadata": {
        "id": "c0CdbpaNEKWp"
      },
      "source": [
        "The range of a confidence interval sets the limits of the values for which you would reject a null hypothesis. For example, if a confidence interval for a population mean was 100 to 105, we would reject any null hypothesis where the proposed population mean is outside of that range. "
      ]
    },
    {
      "cell_type": "markdown",
      "metadata": {
        "id": "PFbybYmGFSBL"
      },
      "source": [
        "## Z Tests"
      ]
    },
    {
      "cell_type": "markdown",
      "metadata": {
        "id": "98oIyz-xFR6R"
      },
      "source": [
        "## T Tests"
      ]
    },
    {
      "cell_type": "markdown",
      "metadata": {
        "id": "5BaW2jIxFm8F"
      },
      "source": [
        "## ANOVA / F-Tests"
      ]
    },
    {
      "cell_type": "markdown",
      "metadata": {
        "id": "yEVyTy0GFmwL"
      },
      "source": [
        "## Chi-Squared"
      ]
    },
    {
      "cell_type": "markdown",
      "metadata": {
        "id": "qbk3ze8AFmqq"
      },
      "source": [
        "## Goodness-of-Fit Test"
      ]
    },
    {
      "cell_type": "markdown",
      "metadata": {
        "id": "6ag8W1VpGHpl"
      },
      "source": [
        "Looking to see if some observed proportion matches an expected proportion in relation to one variable"
      ]
    },
    {
      "cell_type": "code",
      "metadata": {
        "id": "mmPW5kD2GSPv"
      },
      "source": [
        "# observations = [50,100,180,70]\n",
        "# expectations = [60,80,180,80]\n",
        "\n",
        "# result = stats.chisquare(f_obs=observations, f_exp=expectations)\n",
        "# result"
      ],
      "execution_count": null,
      "outputs": []
    },
    {
      "cell_type": "markdown",
      "metadata": {
        "id": "85qWapsMF4gw"
      },
      "source": [
        "## Test for Independence"
      ]
    },
    {
      "cell_type": "markdown",
      "metadata": {
        "id": "4wTr8uGRGdJJ"
      },
      "source": [
        "Testing two categorical variables to see if being a member of one category is independent of being a member of another category."
      ]
    },
    {
      "cell_type": "code",
      "metadata": {
        "id": "FLqMjFzWGBLO"
      },
      "source": [
        "# obs = np.array([[ 66, 102, 246, 107],\n",
        "#                 [ 86,  88, 216,  89]])\n",
        "\n",
        "# result = stats.contingency.chi2_contingency(obs)\n",
        "# chi, p, dof, exp = result\n",
        "# result"
      ],
      "execution_count": null,
      "outputs": []
    },
    {
      "cell_type": "code",
      "metadata": {
        "id": "6T9DoKrZHENZ"
      },
      "source": [
        ""
      ],
      "execution_count": null,
      "outputs": []
    },
    {
      "cell_type": "markdown",
      "metadata": {
        "id": "oPL7GDPMAprs"
      },
      "source": [
        "# Bayes"
      ]
    },
    {
      "cell_type": "markdown",
      "metadata": {
        "id": "RG1hDGIJBPC2"
      },
      "source": [
        ""
      ]
    },
    {
      "cell_type": "markdown",
      "metadata": {
        "id": "WFXD13myPhic"
      },
      "source": [
        "## Bayes Theorem\n",
        "\n",
        "P(a|b) = ( P(b|a) * P(a)) / P(b)"
      ]
    },
    {
      "cell_type": "markdown",
      "metadata": {
        "id": "4KwlXfnRPleJ"
      },
      "source": [
        "## Law of Total Probability\n",
        "\n",
        "P(a) = P(A|B) * P(b)"
      ]
    },
    {
      "cell_type": "markdown",
      "metadata": {
        "id": "gpxNrwNv7jY5"
      },
      "source": [
        "# Simple Linear Regressions"
      ]
    },
    {
      "cell_type": "markdown",
      "metadata": {
        "id": "ATGXHlt88QRs"
      },
      "source": [
        "Steps to construct:"
      ]
    },
    {
      "cell_type": "markdown",
      "metadata": {
        "id": "x2qHEVMY7n6U"
      },
      "source": [
        "## 1. Calculate slope of line of best fit"
      ]
    },
    {
      "cell_type": "code",
      "metadata": {
        "id": "eahG03FF7mCA"
      },
      "source": [
        "# def calc_slope(xs,ys):\n",
        "#     m = (((np.mean(xs)*np.mean(ys) - np.mean(xs*ys)) /\n",
        "#          ((np.mean(xs)**2 - np.mean(xs*xs)))))\n",
        "\n",
        "#     return m\n",
        "\n",
        "# calc_slope(X,Y)"
      ],
      "execution_count": null,
      "outputs": []
    },
    {
      "cell_type": "markdown",
      "metadata": {
        "id": "0aPDhRVI8ogG"
      },
      "source": [
        "## 2. Calculate y-intercept"
      ]
    },
    {
      "cell_type": "code",
      "metadata": {
        "id": "DzS6YBee7wyQ"
      },
      "source": [
        "# def best_fit(xs,ys):\n",
        "    \n",
        "#     m = calc_slope(xs,ys)\n",
        "#     c = np.mean(ys) - m*np.mean(xs)\n",
        "    \n",
        "#     return m, c\n",
        "\n",
        "# # Uncomment below to test your function\n",
        "\n",
        "# m, c = best_fit(X,Y)\n",
        "# m, c"
      ],
      "execution_count": null,
      "outputs": []
    },
    {
      "cell_type": "markdown",
      "metadata": {
        "id": "EffoNhGp8vhK"
      },
      "source": [
        "## 3. Create regression line"
      ]
    },
    {
      "cell_type": "code",
      "metadata": {
        "id": "vYZHfWbO8vNu"
      },
      "source": [
        "# def reg_line (m, c, xs):\n",
        "    \n",
        "#     return [(m*x)+c for x in xs]\n",
        "\n",
        "# regression_line = reg_line(m,c,X)"
      ],
      "execution_count": null,
      "outputs": []
    },
    {
      "cell_type": "markdown",
      "metadata": {
        "id": "EqPDyYgJ9FZf"
      },
      "source": [
        "## 4. Plot `(x, y)` datapoints\n",
        "\n",
        "  (X = predetermined variable representing all x values; Y = predetermined variable representing all y values)"
      ]
    },
    {
      "cell_type": "code",
      "metadata": {
        "id": "ZKqpp_OP8uDm"
      },
      "source": [
        "# plt.scatter(X,Y, label='Data Points')\n",
        "# plt.plot(X, regression_line, label= 'Regression Line')\n",
        "# plt.legend();"
      ],
      "execution_count": null,
      "outputs": []
    },
    {
      "cell_type": "code",
      "metadata": {
        "id": "mgyH3mgd9oDg"
      },
      "source": [
        ""
      ],
      "execution_count": null,
      "outputs": []
    },
    {
      "cell_type": "markdown",
      "metadata": {
        "id": "vzn12d_l8ecH"
      },
      "source": [
        "# Stats Models:"
      ]
    },
    {
      "cell_type": "markdown",
      "metadata": {
        "id": "vgddXdUB-7p2"
      },
      "source": [
        "## Model.summary()"
      ]
    },
    {
      "cell_type": "markdown",
      "metadata": {
        "id": "9kaPBanf8wKn"
      },
      "source": [
        "Statsmodels performs a ton of tests and calculates measures to identify goodness of fit. \n",
        "\n",
        "* You can find the R-Squared, which is 0.95 i.e. the data are very linearly related\n",
        "* You can also look at the coefficients of the model for intercept and slope (next to \"height\")\n",
        "* Kurtosis and Skew values are shown here\n",
        "* A lot of significance testing is being done here\n"
      ]
    },
    {
      "cell_type": "markdown",
      "metadata": {
        "id": "yrhssNd89B_F"
      },
      "source": [
        "### Table 1, Left : Specifics on Data and Model"
      ]
    },
    {
      "cell_type": "markdown",
      "metadata": {
        "id": "3rz7uIDg85_q"
      },
      "source": [
        "* **Dep. Variable**: Singular. Which variable is the point of interest of the model\n",
        "* **Model**: Technique used, an abbreviated version of Method (see methods for more).\n",
        "* **Method**: The loss function optimized in the parameter selection process. Least Squares since it picks the parameters that reduce the training error. This is also known as Mean Square Error [MSE].\n",
        "* **No. Observations**: The number of observations used by the model, or size of the training data.\n",
        "* **Degrees of Freedom Residuals**: Degrees of freedom of the residuals, which is the number of observations – number of parameters. Intercept is a parameter. The purpose of Degrees of Freedom is to reflect the impact of descriptive/summarizing statistics in the model, which in regression is the coefficient. Since the observations must \"live up\" to these parameters, they only have so many free observations, and the rest must be reserved to \"live up\" to the parameters' prophecy. This internal mechanism ensures that there are enough observations to match the parameters.\n",
        "* **Degrees of Freedom Model**: The number of parameters in the model (not including the constant/intercept term if present)\n",
        "* **Covariance Type**: Robust regression methods are designed to be not overly affected by violations of assumptions by the underlying data-generating process. Since this model is Ordinary Least Squares, it is non-robust and therefore highly sensitive to outliers."
      ]
    },
    {
      "cell_type": "markdown",
      "metadata": {
        "id": "-DRfh1rn860S"
      },
      "source": [
        "### Table 1, Right: Goodness of Fit"
      ]
    },
    {
      "cell_type": "markdown",
      "metadata": {
        "id": "FCR8G4_186sX"
      },
      "source": [
        "* **R-squared**: The coefficient of determination, the Sum Squares of Regression divided by Total Sum Squares. This translates to the percent of variance explained by the model. The remaining percentage represents the variance explained by error, the E term, the part that model and predictors fail to grasp.\n",
        "* **Adj. R-squared**: Version of the R-Squared that penalizes additional independent variables. \n",
        "* **F-statistic**: A measure of how significant the fit is. The mean squared error of the model divided by the mean squared error of the residuals. Feeds into the calculation of the P-Value.\n",
        "* **Prob (F-statistic) or P-Value**: The probability that a sample like this would yield the above statistic, and whether the model's verdict on the null hypothesis will consistently represent the population. Does not measure effect magnitude, instead measures the integrity and consistency of this test on this group of data.\n",
        "* **Log-likelihood**: The log of the likelihood function.\n",
        "* **AIC**: The Akaike Information Criterion. Adjusts the log-likelihood based on the number of observations and the complexity of the model. Penalizes the model selection metrics when more independent variables are added.\n",
        "* **BIC**: The Bayesian Information Criterion. Similar to the AIC, but has a higher penalty for models with more parameters. Penalizes the model selection metrics when more independent variables are added."
      ]
    },
    {
      "cell_type": "markdown",
      "metadata": {
        "id": "Em8HT6od9Wps"
      },
      "source": [
        "* **coef**: The estimated value of the coefficient. By how much the model multiplies the independent value by.\n",
        "* **std err**: The basic standard error of the estimate of the coefficient. Average distance deviation of the points from the model, which offers a unit relevant way to gauge model accuracy.\n",
        "* **t**: The t-statistic value. This is a measure of how statistically significant the coefficient is.\n",
        "* **P > |t|**: P-value that the null-hypothesis that the coefficient = 0 is true. If it is less than the confidence level, often 0.05, it indicates that there is a statistically significant relationship between the term and the response.\n",
        "* **[95.0% Conf. Interval]**: The lower and upper values of the 95% confidence interval. Specific range of the possible coefficient values.\n"
      ]
    },
    {
      "cell_type": "markdown",
      "metadata": {
        "id": "HbQW2ZLW951a"
      },
      "source": [
        "### Table 2: Coefficient Report"
      ]
    },
    {
      "cell_type": "markdown",
      "metadata": {
        "id": "LkNgbMIi96mV"
      },
      "source": [
        "* **coef**: The estimated value of the coefficient. By how much the model multiplies the independent value by.\n",
        "* **std err**: The basic standard error of the estimate of the coefficient. Average distance deviation of the points from the model, which offers a unit relevant way to gauge model accuracy.\n",
        "* **t**: The t-statistic value. This is a measure of how statistically significant the coefficient is.\n",
        "* **P > |t|**: P-value that the null-hypothesis that the coefficient = 0 is true. If it is less than the confidence level, often 0.05, it indicates that there is a statistically significant relationship between the term and the response.\n",
        "* **[95.0% Conf. Interval]**: The lower and upper values of the 95% confidence interval. Specific range of the possible coefficient values.\n",
        "\n",
        "\n",
        "\n"
      ]
    },
    {
      "cell_type": "markdown",
      "metadata": {
        "id": "ED_nWiFi9WVi"
      },
      "source": [
        "### Table 3: Info on Residuals, Autocorrelation, Multicollinearity"
      ]
    },
    {
      "cell_type": "markdown",
      "metadata": {
        "id": "ldU52zhj86o8"
      },
      "source": [
        "* **Skewness**: A measure of the symmetry of the data about the mean. Normally-distributed errors should be symmetrically distributed about the mean (equal amounts above and below the line). The normal distribution has 0 skew.\n",
        "* **Kurtosis**: A measure of the shape of the distribution. Compares the amount of data close to the mean with those far away from the mean (in the tails), so model \"peakiness\". The normal distribution has a Kurtosis of 3, and the greater the number, the more the curve peaks.\n",
        "* **Omnibus D’Angostino’s test**: Provides a combined statistical test for the presence of skewness and kurtosis.\n",
        "* **Prob(Omnibus)**: The above statistic turned into a probability\n",
        "* **Jarque-Bera**: A different test of the skewness and kurtosis\n",
        "* **Prob (JB)**: The above statistic turned into a probability\n",
        "* **Durbin-Watson**: A test for the presence of autocorrelation (that the errors are not independent), which is often important in time-series analysis\n",
        "* **Cond. No**: A test for multicollinearity (if in a fit with multiple parameters, the parameters are related to each other).\n"
      ]
    },
    {
      "cell_type": "markdown",
      "metadata": {
        "id": "IseX-Zk686l0"
      },
      "source": [
        "### Visualizing Error Terms"
      ]
    },
    {
      "cell_type": "markdown",
      "metadata": {
        "id": "x0aYXosj86aU"
      },
      "source": [
        "You can also plot some visualizations to check the regression assumptions with respect to the error terms. You'll use `sm.graphics.plot_regress_exog()` for some built-in visualization capabilities of statsmodels. Here is how to do it: "
      ]
    },
    {
      "cell_type": "code",
      "metadata": {
        "id": "4Tv0PZCD-FIN"
      },
      "source": [
        "# fig = plt.figure(figsize=(15,8))\n",
        "# fig = sm.graphics.plot_regress_exog(model, \"height\", fig=fig)\n",
        "# plt.show()"
      ],
      "execution_count": 2,
      "outputs": []
    },
    {
      "cell_type": "markdown",
      "metadata": {
        "id": "c_POeEPF-J4t"
      },
      "source": [
        "For the four graphs we see above:\n",
        "\n",
        "* **Y and Fitted vs. X** graph plots the dependent variable against our predicted values with a confidence interval. \n",
        "   * The positive relationship shows that height and weight are correlated, i.e., when one variable increases the other increases.\n",
        "\n",
        "* **Residuals versus height** graph shows our model's errors versus the specified predictor variable. \n",
        "   * Each dot is an observed value; the line represents the mean of those observed values. \n",
        "   * Since there's no pattern in the distance between the dots and the mean value, the OLS assumption of homoskedasticity holds.\n",
        "\n",
        "* **Partial regression plot** shows the relationship between height and weight, taking in to account the impact of adding other independent variables on our existing height coefficient.\n",
        "  * You'll later learn how this same graph changes when you add more variables.\n",
        "\n",
        "* **Component and Component Plus Residual (CCPR)** plot is an extension of the partial regression plot. \n",
        "  * It shows where the trend line would lie after adding the impact of adding our other independent variables on the weight."
      ]
    },
    {
      "cell_type": "markdown",
      "metadata": {
        "id": "mltR5Lr9-fRA"
      },
      "source": [
        "### Q-Q Plot - Residuals Test for Normality\n"
      ]
    },
    {
      "cell_type": "code",
      "metadata": {
        "id": "Qb5K_JUl-kRr"
      },
      "source": [
        "# import scipy.stats as stats\n",
        "# residuals = model.resid\n",
        "# fig = sm.graphics.qqplot(residuals, dist=stats.norm, line='45', fit=True)\n",
        "# fig.show()"
      ],
      "execution_count": 3,
      "outputs": []
    },
    {
      "cell_type": "markdown",
      "metadata": {
        "id": "37d-NyN__IWa"
      },
      "source": [
        "## Example with Code"
      ]
    },
    {
      "cell_type": "markdown",
      "metadata": {
        "id": "jslAkw9V_Pro"
      },
      "source": [
        "> Which advertising channel has the strongest relationship with sales volume, and can be used to model and predict the sales?"
      ]
    },
    {
      "cell_type": "markdown",
      "metadata": {
        "id": "kw6TxYgZ_SPN"
      },
      "source": [
        "### Step 1: Read the dataset and inspect its columns and 5-point statistics"
      ]
    },
    {
      "cell_type": "code",
      "metadata": {
        "id": "SblqmfaZ_wub"
      },
      "source": [
        "# import pandas as pd\n",
        "# import matplotlib.pyplot as plt\n",
        "# plt.style.use('ggplot')\n",
        "# data = pd.read_csv('Advertising.csv', index_col=0)"
      ],
      "execution_count": 4,
      "outputs": []
    },
    {
      "cell_type": "code",
      "metadata": {
        "id": "2V-qNGo3_xkT"
      },
      "source": [
        "# # Get the 5-point statistics for data \n",
        "# data.describe()"
      ],
      "execution_count": 5,
      "outputs": []
    },
    {
      "cell_type": "markdown",
      "metadata": {
        "id": "uimzAFLi_SIg"
      },
      "source": [
        "### Step 2: Plot histograms with kde overlay to check the distribution of the predictors"
      ]
    },
    {
      "cell_type": "code",
      "metadata": {
        "id": "JGdapAuw_1Fl"
      },
      "source": [
        "# # For all the variables, check distribution by creating a histogram with kde\n",
        "# for column in data:\n",
        "#     data[column].plot.hist(density=True, label=column+' Histogram')\n",
        "#     data[column].plot.kde(label = column+' KDE')\n",
        "#     plt.legend()\n",
        "#     plt.show()"
      ],
      "execution_count": 6,
      "outputs": []
    },
    {
      "cell_type": "markdown",
      "metadata": {
        "id": "L-dwZeUH_SAj"
      },
      "source": [
        "### Step 3: Test for the linearity assumption"
      ]
    },
    {
      "cell_type": "markdown",
      "metadata": {
        "id": "f6sBd_G9_aR5"
      },
      "source": [
        "Use scatterplots to plot each predictor against the target variable"
      ]
    },
    {
      "cell_type": "code",
      "metadata": {
        "id": "VkUqcHnh_4qC"
      },
      "source": [
        "# # visualize the relationship between the preditors and the target using scatterplots\n",
        "# fig, axs = plt.subplots(1, 3, sharey=True, figsize=(18, 6))\n",
        "# for idx, channel in enumerate(['TV', 'radio', 'newspaper']):\n",
        "#     data.plot(kind='scatter', x=channel, y='sales', ax=axs[idx], label=channel)\n",
        "# plt.legend()\n",
        "# plt.show()"
      ],
      "execution_count": 7,
      "outputs": []
    },
    {
      "cell_type": "markdown",
      "metadata": {
        "id": "xIl_nV63_RqC"
      },
      "source": [
        "### Step 4: Run a simple regression in Statsmodels with TV as a predictor"
      ]
    },
    {
      "cell_type": "code",
      "metadata": {
        "id": "oaGDvVZZ_80J"
      },
      "source": [
        "# # import libraries\n",
        "# import statsmodels.api as sm\n",
        "# import statsmodels.formula.api as smf\n",
        "\n",
        "# # build the formula \n",
        "# f = 'sales~TV'\n",
        "# # create a fitted model in one line\n",
        "# model = smf.ols(formula=f, data=data).fit()"
      ],
      "execution_count": 8,
      "outputs": []
    },
    {
      "cell_type": "markdown",
      "metadata": {
        "id": "lRdUVP-N_Pm-"
      },
      "source": [
        "### Step 5: Get Regression Diagnostics Summary"
      ]
    },
    {
      "cell_type": "code",
      "metadata": {
        "id": "X5-xF7vzADNS"
      },
      "source": [
        "# model.summary()"
      ],
      "execution_count": 10,
      "outputs": []
    },
    {
      "cell_type": "markdown",
      "metadata": {
        "id": "hvjOIS02_PiX"
      },
      "source": [
        "### Step 6:  Draw a prediction line with data points on a scatter plot for X (TV) and Y (Sales)"
      ]
    },
    {
      "cell_type": "code",
      "metadata": {
        "id": "ZfPAUfsRAISn"
      },
      "source": [
        "# # create a DataFrame with the minimum and maximum values of TV\n",
        "# X_new = pd.DataFrame({'TV': [data.TV.min(), data.TV.max()]})\n",
        "# print(X_new.head())\n",
        "# # make predictions for those x values and store them\n",
        "# preds = model.predict(X_new)\n",
        "# print(preds)\n",
        "\n",
        "# # first, plot the observed data and the least squares line\n",
        "# data.plot(kind='scatter', x='TV', y='sales')\n",
        "# plt.plot(X_new, preds, c='red', linewidth=2)\n",
        "# plt.show()"
      ],
      "execution_count": 11,
      "outputs": []
    },
    {
      "cell_type": "markdown",
      "metadata": {
        "id": "0ereCTjN_Pdn"
      },
      "source": [
        "### Step 7: Visualize the error term for variance and heteroscedasticity"
      ]
    },
    {
      "cell_type": "code",
      "metadata": {
        "id": "u4IxsBsPAJsW"
      },
      "source": [
        "# fig= plt.figure(figsize=(15,8))\n",
        "# fig = sm.graphics.plot_regress_exog(model, 'TV', fig=fig)\n",
        "# plt.show()"
      ],
      "execution_count": null,
      "outputs": []
    },
    {
      "cell_type": "markdown",
      "metadata": {
        "id": "uSiLIUxB_PYe"
      },
      "source": [
        "### Step 8: Check the normality assumptions by creating a QQ-plot"
      ]
    },
    {
      "cell_type": "code",
      "metadata": {
        "id": "GBfx6BKyAKD-"
      },
      "source": [
        "# # Code for QQ-plot here\n",
        "\n",
        "# import scipy.stats as stats\n",
        "# residuals = model.resid\n",
        "# fig = sm.graphics.qqplot(residuals, dist=stats.norm, line='45', fit=True)\n",
        "# fig.show"
      ],
      "execution_count": null,
      "outputs": []
    },
    {
      "cell_type": "markdown",
      "metadata": {
        "id": "c72wLuxH_oKI"
      },
      "source": [
        "### Step 9: Repeat the above for radio and record your observations"
      ]
    },
    {
      "cell_type": "code",
      "metadata": {
        "id": "TO3WLiMRAKXL"
      },
      "source": [
        "# # code for model, prediction line plot, heteroscedasticity check and QQ normality check here\n",
        "\n",
        "# f = 'sales~radio'\n",
        "# model = smf.ols(formula=f, data=data).fit()\n",
        "# print ('R-Squared:',model.rsquared)\n",
        "# print (model.params)\n",
        "# X_new = pd.DataFrame({'radio': [data.radio.min(), data.radio.max()]});\n",
        "# preds = model.predict(X_new)\n",
        "# data.plot(kind='scatter', x='radio', y='sales');\n",
        "# plt.plot(X_new, preds, c='red', linewidth=2);\n",
        "# plt.show()\n",
        "# fig = plt.figure(figsize=(15,8))\n",
        "# fig = sm.graphics.plot_regress_exog(model, \"radio\", fig=fig)\n",
        "# plt.show()\n",
        "# import scipy.stats as stats\n",
        "# residuals = model.resid\n",
        "# fig = sm.graphics.qqplot(residuals, dist=stats.norm, line='45', fit=True)\n",
        "# fig.show()\n"
      ],
      "execution_count": null,
      "outputs": []
    },
    {
      "cell_type": "code",
      "metadata": {
        "id": "UdpFwBakAqzg"
      },
      "source": [
        "# # P(A | B)\n",
        "\n",
        "# def P_a_given_b(P_a, P_b, P_b_given_a):\n",
        "#     P_a_given_b = (P_b_given_a * P_a)/P_b\n",
        "#     return P_a_given_b"
      ],
      "execution_count": null,
      "outputs": []
    },
    {
      "cell_type": "code",
      "metadata": {
        "id": "RMtoZn94-kOn"
      },
      "source": [
        "# # P(B | a)\n",
        "\n",
        "# def P_b_given_a(P_a, P_b, P_a_given_b):\n",
        "#     P_b_given_a = (P_a_given_b * P_b)/P_a\n",
        "#     return P_b_given_a"
      ],
      "execution_count": null,
      "outputs": []
    },
    {
      "cell_type": "code",
      "metadata": {
        "id": "HRD1DNi6bVhC"
      },
      "source": [
        ""
      ],
      "execution_count": null,
      "outputs": []
    },
    {
      "cell_type": "markdown",
      "metadata": {
        "id": "HNi7lg5hBh-T"
      },
      "source": [
        "## Multiple Linear Regression - From Review"
      ]
    },
    {
      "cell_type": "markdown",
      "metadata": {
        "id": "Z-I15pUJDoIP"
      },
      "source": [
        "### Review Features - Which to keep?"
      ]
    },
    {
      "cell_type": "code",
      "metadata": {
        "id": "_JZQUSkXDNSD"
      },
      "source": [
        "# model_data = df[[\n",
        "#     'gross', 'budget', 'actor_1_facebook_likes', 'cast_total_facebook_likes', \n",
        "#     'title_year', 'content_rating', 'genres'\n",
        "# ]]\n",
        "\n",
        "# model_data.corr()\n",
        "\n",
        "# # drop either `cast_total_facebook_likes` or `actor_1_facebook_likes` due to multicollinearity"
      ],
      "execution_count": 13,
      "outputs": []
    },
    {
      "cell_type": "markdown",
      "metadata": {
        "id": "mUj0k73bDfOu"
      },
      "source": [
        "\n",
        "`num_critic_for_reviews` and `imdb_score` can't be known before the movie is released.\n",
        "\n",
        "we'll drop them from the model.\n",
        "\n",
        "drop either `cast_total_facebook_likes` or `actor_1_facebook_likes` due to multicollinearity.\n"
      ]
    },
    {
      "cell_type": "markdown",
      "metadata": {
        "id": "gCnUuhFnDtUU"
      },
      "source": [
        "## Creating OLS Model"
      ]
    },
    {
      "cell_type": "code",
      "metadata": {
        "id": "ogJ-uvGCDOEP"
      },
      "source": [
        "# import pandas as pd"
      ],
      "execution_count": null,
      "outputs": []
    },
    {
      "cell_type": "code",
      "metadata": {
        "id": "S77C-0WlDN_l"
      },
      "source": [
        "# model_data['years_old'] = 2020 - model_data.title_year\n",
        "\n",
        "# model_data = pd.get_dummies(model_data, columns=['content_rating']).drop(columns='content_rating_PG-13')"
      ],
      "execution_count": null,
      "outputs": []
    },
    {
      "cell_type": "code",
      "metadata": {
        "id": "u2xGpvz_DN7C"
      },
      "source": [
        "# model_data.columns"
      ],
      "execution_count": null,
      "outputs": []
    },
    {
      "cell_type": "code",
      "metadata": {
        "id": "Lpwlv0XWDN25"
      },
      "source": [
        "# from statsmodels.formula.api import ols writing out the formula\n",
        "\n",
        "# from statsmodels.api import OLS using x,y"
      ],
      "execution_count": null,
      "outputs": []
    },
    {
      "cell_type": "code",
      "metadata": {
        "id": "ykq8M2duDNwX"
      },
      "source": [
        "# # your answer here\n",
        "# lr_model = ols(formula='gross~cast_total_facebook_likes+budget+years_old+G+PG+R', data=model_data).fit()\n",
        "\n",
        "# lr_model.summary()"
      ],
      "execution_count": null,
      "outputs": []
    }
  ]
}